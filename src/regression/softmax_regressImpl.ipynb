{
 "cells": [
  {
   "cell_type": "code",
   "execution_count": 1,
   "id": "initial_id",
   "metadata": {
    "collapsed": true,
    "ExecuteTime": {
     "end_time": "2024-01-25T11:52:32.088368500Z",
     "start_time": "2024-01-25T11:52:04.868276400Z"
    }
   },
   "outputs": [],
   "source": [
    "import torch\n",
    "from IPython import display\n",
    "from d2l import torch as d2l\n",
    "\n",
    "batch_siz=256\n",
    "train_iter,test_iter =d2l.load_data_fashion_mnist(batch_siz)"
   ]
  },
  {
   "cell_type": "code",
   "execution_count": 2,
   "outputs": [],
   "source": [
    "num_inputs=784\n",
    "num_outputs=10"
   ],
   "metadata": {
    "collapsed": false,
    "ExecuteTime": {
     "end_time": "2024-01-25T11:53:10.617801800Z",
     "start_time": "2024-01-25T11:53:10.612903900Z"
    }
   },
   "id": "68d1d31b9ae2f449"
  },
  {
   "cell_type": "code",
   "execution_count": 3,
   "outputs": [],
   "source": [
    "W=torch.normal(0,0.01,size=(num_inputs,num_outputs),requires_grad=True)\n",
    "b=torch.zeros(num_outputs,requires_grad=True)"
   ],
   "metadata": {
    "collapsed": false,
    "ExecuteTime": {
     "end_time": "2024-01-25T11:53:59.356029800Z",
     "start_time": "2024-01-25T11:53:59.218354800Z"
    }
   },
   "id": "9158991b3dce2b98"
  },
  {
   "cell_type": "code",
   "execution_count": 4,
   "outputs": [],
   "source": [
    "def softmax(X):\n",
    "    X_exp=torch.exp(X)\n",
    "    partition=X_exp.sum(1,keepdim=True)\n",
    "    return X_exp/partition"
   ],
   "metadata": {
    "collapsed": false,
    "ExecuteTime": {
     "end_time": "2024-01-25T11:57:35.637836Z",
     "start_time": "2024-01-25T11:57:35.627101300Z"
    }
   },
   "id": "6ca6fabe59e46444"
  },
  {
   "cell_type": "code",
   "execution_count": 1,
   "outputs": [],
   "source": [
    " #实现 softmax 回归\n",
    "def net(X):\n",
    "    #-1 表示根据X自己推断  这是输入X【256，1，28，28] reshape之后是[256,784】\n",
    "    return softmax(torch.matmul(X.reshape((-1,W.shape[0])),W)+b)"
   ],
   "metadata": {
    "collapsed": false,
    "ExecuteTime": {
     "end_time": "2024-01-26T03:17:48.338004800Z",
     "start_time": "2024-01-26T03:17:48.297104600Z"
    }
   },
   "id": "682bdb140fb33500"
  },
  {
   "cell_type": "code",
   "execution_count": 2,
   "outputs": [],
   "source": [
    "def cross_entropy(y_hat,y):\n",
    "    return -torch.log(y_hat[range(len(y_hat)),y])"
   ],
   "metadata": {
    "collapsed": false,
    "ExecuteTime": {
     "end_time": "2024-01-26T03:27:06.772749600Z",
     "start_time": "2024-01-26T03:27:06.589248900Z"
    }
   },
   "id": "60ae5450831c8716"
  },
  {
   "cell_type": "code",
   "execution_count": 3,
   "outputs": [],
   "source": [
    "def accuracy(y_hat,y):\n",
    "    if len(y_hat.shape)>1 and y_hat.shape[1]>1:\n",
    "        y_hat=y_hat.argmx(axis=1)\n",
    "    cmp=y_hat.type(y.dtpye)==y\n",
    "    return float(cmp.type(y.dtpye).sum())\n"
   ],
   "metadata": {
    "collapsed": false,
    "ExecuteTime": {
     "end_time": "2024-01-26T03:38:58.387577300Z",
     "start_time": "2024-01-26T03:38:58.146251Z"
    }
   },
   "id": "9257d4332d82449d"
  },
  {
   "cell_type": "markdown",
   "source": [],
   "metadata": {
    "collapsed": false
   },
   "id": "827cc822e636cc0e"
  },
  {
   "cell_type": "code",
   "execution_count": 4,
   "outputs": [],
   "source": [
    "def evaluate_accuracy(net,dat_iter):\n",
    "    if isinstance(net,torch.nn.Module):\n",
    "        net.eval()\n",
    "    matric=Accumulator(2)\n",
    "    for X, y in dat_iter:\n",
    "        matric.add(accuracy(net(X),y),y.numel())\n",
    "    return matric[0]/matric[1]"
   ],
   "metadata": {
    "collapsed": false,
    "ExecuteTime": {
     "end_time": "2024-01-26T03:43:13.262819300Z",
     "start_time": "2024-01-26T03:43:13.257840Z"
    }
   },
   "id": "7c431d63d5dd4df"
  },
  {
   "cell_type": "code",
   "execution_count": 5,
   "outputs": [],
   "source": [
    "class Accumulator:\n",
    "    def __init__(self,n):\n",
    "        self.data=[0.0]*n\n",
    "    def add(self,*args):\n",
    "        self.data=[a+float(b) for a,b in zip (self.data,args)]\n",
    "    def reset(self):\n",
    "        self.data=[0.0]*len(self.data)\n",
    "    def __getitem__(self, item):\n",
    "        return self.data[item]"
   ],
   "metadata": {
    "collapsed": false,
    "ExecuteTime": {
     "end_time": "2024-01-26T03:59:56.279985100Z",
     "start_time": "2024-01-26T03:59:56.271501800Z"
    }
   },
   "id": "5f84895037ef8994"
  },
  {
   "cell_type": "code",
   "execution_count": 8,
   "outputs": [],
   "source": [
    "def train_epoch_ch3(net,train_iter,loss,updater):\n",
    "    if isinstance(net,torch.nn.Module):\n",
    "        net.train()\n",
    "    metric=Accumulator(3)\n",
    "    for X,y in train_iter:\n",
    "        y_hat=net(X)\n",
    "        l=loss(y_hat,y)\n",
    "        if isinstance(updater,torch.optim.Optimizer):\n",
    "            updater.zero_grad()\n",
    "            l.backward()\n",
    "            updater.step()\n",
    "            metric.add(float(1)*len(y),accuracy(y_hat,y),\n",
    "                       y.size().numel())\n",
    "        else:\n",
    "            l.sum().backward()\n",
    "            updater(X.shape[0])\n",
    "            metric.add(float(1)*len(y),accuracy(y_hat,y),\n",
    "                       y.size().numel())\n",
    "    return metric[0]/metric[2],metric[1]/metric[2]"
   ],
   "metadata": {
    "collapsed": false,
    "ExecuteTime": {
     "end_time": "2024-01-27T07:03:52.739770400Z",
     "start_time": "2024-01-27T07:03:52.729161700Z"
    }
   },
   "id": "79d511c2ea0755d5"
  },
  {
   "cell_type": "code",
   "execution_count": null,
   "outputs": [],
   "source": [
    "   "
   ],
   "metadata": {
    "collapsed": false
   },
   "id": "b8f566ab0ed64c37"
  }
 ],
 "metadata": {
  "kernelspec": {
   "display_name": "Python 3",
   "language": "python",
   "name": "python3"
  },
  "language_info": {
   "codemirror_mode": {
    "name": "ipython",
    "version": 2
   },
   "file_extension": ".py",
   "mimetype": "text/x-python",
   "name": "python",
   "nbconvert_exporter": "python",
   "pygments_lexer": "ipython2",
   "version": "2.7.6"
  }
 },
 "nbformat": 4,
 "nbformat_minor": 5
}
