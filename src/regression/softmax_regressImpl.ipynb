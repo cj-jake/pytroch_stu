{
 "cells": [
  {
   "cell_type": "code",
   "execution_count": 1,
   "id": "initial_id",
   "metadata": {
    "collapsed": true,
    "ExecuteTime": {
     "end_time": "2024-01-25T11:52:32.088368500Z",
     "start_time": "2024-01-25T11:52:04.868276400Z"
    }
   },
   "outputs": [],
   "source": [
    "import torch\n",
    "from IPython import display\n",
    "from d2l import torch as d2l\n",
    "\n",
    "batch_siz=256\n",
    "train_iter,test_iter =d2l.load_data_fashion_mnist(batch_siz)"
   ]
  },
  {
   "cell_type": "code",
   "execution_count": 2,
   "outputs": [],
   "source": [
    "num_inputs=784\n",
    "num_outputs=10"
   ],
   "metadata": {
    "collapsed": false,
    "ExecuteTime": {
     "end_time": "2024-01-25T11:53:10.617801800Z",
     "start_time": "2024-01-25T11:53:10.612903900Z"
    }
   },
   "id": "68d1d31b9ae2f449"
  },
  {
   "cell_type": "code",
   "execution_count": 3,
   "outputs": [],
   "source": [
    "W=torch.normal(0,0.01,size=(num_inputs,num_outputs),requires_grad=True)\n",
    "b=torch.zeros(num_outputs,requires_grad=True)"
   ],
   "metadata": {
    "collapsed": false,
    "ExecuteTime": {
     "end_time": "2024-01-25T11:53:59.356029800Z",
     "start_time": "2024-01-25T11:53:59.218354800Z"
    }
   },
   "id": "9158991b3dce2b98"
  },
  {
   "cell_type": "code",
   "execution_count": 4,
   "outputs": [],
   "source": [
    "def softmax(X):\n",
    "    X_exp=torch.exp(X)\n",
    "    partition=X_exp.sum(1,keepdim=True)\n",
    "    return X_exp/partition"
   ],
   "metadata": {
    "collapsed": false,
    "ExecuteTime": {
     "end_time": "2024-01-25T11:57:35.637836Z",
     "start_time": "2024-01-25T11:57:35.627101300Z"
    }
   },
   "id": "6ca6fabe59e46444"
  },
  {
   "cell_type": "code",
   "execution_count": null,
   "outputs": [],
   "source": [
    " #实现 softmax 回归\n",
    "def net(X):\n",
    "    return softmax(torch.matmul(X.reshape((-1,W.shape[0])),W)+b)"
   ],
   "metadata": {
    "collapsed": false
   },
   "id": "682bdb140fb33500"
  },
  {
   "cell_type": "code",
   "execution_count": null,
   "outputs": [],
   "source": [],
   "metadata": {
    "collapsed": false
   },
   "id": "60ae5450831c8716"
  }
 ],
 "metadata": {
  "kernelspec": {
   "display_name": "Python 3",
   "language": "python",
   "name": "python3"
  },
  "language_info": {
   "codemirror_mode": {
    "name": "ipython",
    "version": 2
   },
   "file_extension": ".py",
   "mimetype": "text/x-python",
   "name": "python",
   "nbconvert_exporter": "python",
   "pygments_lexer": "ipython2",
   "version": "2.7.6"
  }
 },
 "nbformat": 4,
 "nbformat_minor": 5
}
