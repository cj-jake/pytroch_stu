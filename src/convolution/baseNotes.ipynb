{
 "cells": [
  {
   "cell_type": "code",
   "execution_count": 4,
   "id": "initial_id",
   "metadata": {
    "collapsed": true,
    "ExecuteTime": {
     "end_time": "2024-02-28T07:11:03.362152800Z",
     "start_time": "2024-02-28T07:11:02.711478300Z"
    }
   },
   "outputs": [
    {
     "data": {
      "text/plain": "tensor([[-0.4725],\n        [-0.4192]], grad_fn=<AddmmBackward0>)"
     },
     "execution_count": 4,
     "metadata": {},
     "output_type": "execute_result"
    }
   ],
   "source": [
    "import torch\n",
    "from torch import nn\n",
    "\n",
    "net=nn.Sequential(nn.Linear(4,8),nn.ReLU(),nn.Linear(8,1))\n",
    "X=torch.rand(size=(2,4))\n",
    "net(X)"
   ]
  },
  {
   "cell_type": "code",
   "execution_count": 6,
   "outputs": [
    {
     "name": "stdout",
     "output_type": "stream",
     "text": [
      "OrderedDict([('weight', tensor([[-0.3160, -0.1669, -0.3527,  0.1377,  0.0631,  0.0388, -0.0791, -0.0927]])), ('bias', tensor([-0.2851]))])\n"
     ]
    }
   ],
   "source": [
    "print(net[2].state_dict())#最后一层的参数"
   ],
   "metadata": {
    "collapsed": false,
    "ExecuteTime": {
     "end_time": "2024-02-28T07:14:03.606061900Z",
     "start_time": "2024-02-28T07:14:03.599067200Z"
    }
   },
   "id": "a895e7a3a466ce39"
  },
  {
   "cell_type": "code",
   "execution_count": 12,
   "outputs": [
    {
     "name": "stdout",
     "output_type": "stream",
     "text": [
      "<class 'torch.nn.parameter.Parameter'>\n",
      "tensor([-0.2851])\n",
      "OrderedDict()\n"
     ]
    }
   ],
   "source": [
    "print((type(net[2].bias)))\n",
    "print(net[2].bias.data)\n",
    "print(net[1].state_dict())"
   ],
   "metadata": {
    "collapsed": false,
    "ExecuteTime": {
     "end_time": "2024-02-28T07:18:24.169564600Z",
     "start_time": "2024-02-28T07:18:24.161706900Z"
    }
   },
   "id": "7aed5bb1e17203dc"
  },
  {
   "cell_type": "code",
   "execution_count": 13,
   "outputs": [
    {
     "name": "stdout",
     "output_type": "stream",
     "text": [
      "('weight', torch.Size([8, 4])) ('bias', torch.Size([8]))\n",
      "('0.weight', torch.Size([8, 4])) ('0.bias', torch.Size([8])) ('2.weight', torch.Size([1, 8])) ('2.bias', torch.Size([1]))\n"
     ]
    }
   ],
   "source": [
    "#一次性访问所有参数\n",
    "print(*[(name,param.shape) for name,param in net[0].named_parameters()])\n",
    "print(*[(name,param.shape) for name,param in net.named_parameters()])"
   ],
   "metadata": {
    "collapsed": false,
    "ExecuteTime": {
     "end_time": "2024-02-28T07:19:47.388893100Z",
     "start_time": "2024-02-28T07:19:47.379693800Z"
    }
   },
   "id": "8f2acfc142716ee9"
  },
  {
   "cell_type": "code",
   "execution_count": 14,
   "outputs": [
    {
     "data": {
      "text/plain": "tensor([-0.2851])"
     },
     "execution_count": 14,
     "metadata": {},
     "output_type": "execute_result"
    }
   ],
   "source": [
    "net.state_dict()['2.bias'].data"
   ],
   "metadata": {
    "collapsed": false,
    "ExecuteTime": {
     "end_time": "2024-02-28T07:20:41.838206700Z",
     "start_time": "2024-02-28T07:20:41.758728700Z"
    }
   },
   "id": "4ed0d055b2e2374a"
  },
  {
   "cell_type": "code",
   "execution_count": 15,
   "outputs": [
    {
     "data": {
      "text/plain": "tensor([[-0.3280],\n        [-0.3276]], grad_fn=<AddmmBackward0>)"
     },
     "execution_count": 15,
     "metadata": {},
     "output_type": "execute_result"
    }
   ],
   "source": [
    "#从嵌套块中收集参数\n",
    "def block1():\n",
    "    return nn.Sequential(nn.Linear(4,8),nn.ReLU(),nn.Linear(8,4),nn.ReLU())\n",
    "\n",
    "def block2():\n",
    "    net=nn.Sequential()\n",
    "    for i in range(4):\n",
    "        net.add_module(f'block {i}',block1())\n",
    "    return net\n",
    "\n",
    "rgnet=nn.Sequential(block2(),nn.Linear(4,1))\n",
    "rgnet(X)"
   ],
   "metadata": {
    "collapsed": false,
    "ExecuteTime": {
     "end_time": "2024-02-28T07:29:59.107256200Z",
     "start_time": "2024-02-28T07:29:59.077136800Z"
    }
   },
   "id": "880466442c0d03da"
  },
  {
   "cell_type": "code",
   "execution_count": 16,
   "outputs": [
    {
     "name": "stdout",
     "output_type": "stream",
     "text": [
      "Sequential(\n",
      "  (0): Sequential(\n",
      "    (block 0): Sequential(\n",
      "      (0): Linear(in_features=4, out_features=8, bias=True)\n",
      "      (1): ReLU()\n",
      "      (2): Linear(in_features=8, out_features=4, bias=True)\n",
      "      (3): ReLU()\n",
      "    )\n",
      "    (block 1): Sequential(\n",
      "      (0): Linear(in_features=4, out_features=8, bias=True)\n",
      "      (1): ReLU()\n",
      "      (2): Linear(in_features=8, out_features=4, bias=True)\n",
      "      (3): ReLU()\n",
      "    )\n",
      "    (block 2): Sequential(\n",
      "      (0): Linear(in_features=4, out_features=8, bias=True)\n",
      "      (1): ReLU()\n",
      "      (2): Linear(in_features=8, out_features=4, bias=True)\n",
      "      (3): ReLU()\n",
      "    )\n",
      "    (block 3): Sequential(\n",
      "      (0): Linear(in_features=4, out_features=8, bias=True)\n",
      "      (1): ReLU()\n",
      "      (2): Linear(in_features=8, out_features=4, bias=True)\n",
      "      (3): ReLU()\n",
      "    )\n",
      "  )\n",
      "  (1): Linear(in_features=4, out_features=1, bias=True)\n",
      ")\n"
     ]
    }
   ],
   "source": [
    "print(rgnet)"
   ],
   "metadata": {
    "collapsed": false,
    "ExecuteTime": {
     "end_time": "2024-02-28T07:30:13.765217300Z",
     "start_time": "2024-02-28T07:30:13.754747900Z"
    }
   },
   "id": "8242a3fcbdba90e2"
  },
  {
   "cell_type": "code",
   "execution_count": 18,
   "outputs": [
    {
     "data": {
      "text/plain": "(tensor([-0.0004, -0.0060, -0.0011, -0.0017]), tensor(0.))"
     },
     "execution_count": 18,
     "metadata": {},
     "output_type": "execute_result"
    }
   ],
   "source": [
    "def init_normal(m):\n",
    "    if type(m)==nn.Linear:\n",
    "        nn.init.normal_(m.weight,mean=0,std=0.01)\n",
    "        nn.init.zeros_(m.bias)\n",
    "net.apply(init_normal)\n",
    "net[0].weight.data[0],net[0].bias.data[0]"
   ],
   "metadata": {
    "collapsed": false,
    "ExecuteTime": {
     "end_time": "2024-02-28T07:41:06.852788900Z",
     "start_time": "2024-02-28T07:41:06.114009300Z"
    }
   },
   "id": "1fcba435ba53432d"
  },
  {
   "cell_type": "code",
   "execution_count": 20,
   "outputs": [
    {
     "data": {
      "text/plain": "(tensor([1., 1., 1., 1.]), tensor(0.))"
     },
     "execution_count": 20,
     "metadata": {},
     "output_type": "execute_result"
    }
   ],
   "source": [
    "def init_normal(m):\n",
    "    if type(m)==nn.Linear:\n",
    "        nn.init.constant_(m.weight,1)\n",
    "        nn.init.zeros_(m.bias)\n",
    "net.apply(init_normal)\n",
    "net[0].weight.data[0],net[0].bias.data[0]"
   ],
   "metadata": {
    "collapsed": false,
    "ExecuteTime": {
     "end_time": "2024-02-28T07:42:44.417657100Z",
     "start_time": "2024-02-28T07:42:44.226510400Z"
    }
   },
   "id": "d7452562a19e9082"
  },
  {
   "cell_type": "code",
   "execution_count": 25,
   "outputs": [
    {
     "name": "stdout",
     "output_type": "stream",
     "text": [
      "tensor([-0.0282, -0.5754, -0.3810, -0.6159])\n",
      "tensor([[42., 42., 42., 42., 42., 42., 42., 42.]])\n"
     ]
    }
   ],
   "source": [
    "#对于某些块应用不同的初始化方法  不同的层调用不同的初始化\n",
    "def xavier(m):\n",
    "    if type(m)==nn.Linear:\n",
    "        nn.init.xavier_uniform_(m.weight)\n",
    "def init_42(m):\n",
    "    if type(m)==nn.Linear:\n",
    "        nn.init.constant_(m.weight,42)\n",
    "net[0].apply(xavier)\n",
    "net[2].apply(init_42)\n",
    "print(net[0].weight.data[0])\n",
    "print(net[2].weight.data)"
   ],
   "metadata": {
    "collapsed": false,
    "ExecuteTime": {
     "end_time": "2024-02-28T07:48:42.233460900Z",
     "start_time": "2024-02-28T07:48:42.127166100Z"
    }
   },
   "id": "1bddddb315b21d7b"
  },
  {
   "cell_type": "code",
   "execution_count": 29,
   "outputs": [
    {
     "name": "stdout",
     "output_type": "stream",
     "text": [
      "Init ('weight', torch.Size([8, 4])) ('bias', torch.Size([8]))\n",
      "Init ('weight', torch.Size([1, 8])) ('bias', torch.Size([1]))\n"
     ]
    },
    {
     "data": {
      "text/plain": "tensor([[ 0.0000,  9.4278, -0.0000, -6.4314],\n        [ 6.1521,  0.0000,  7.4984,  0.0000]], grad_fn=<SliceBackward0>)"
     },
     "execution_count": 29,
     "metadata": {},
     "output_type": "execute_result"
    }
   ],
   "source": [
    "#自定义初始化\n",
    "def my_init(m):\n",
    "    if type(m)==nn.Linear:\n",
    "        print(\"Init\",\n",
    "              *[(name,param.shape) for name, param in m.named_parameters()]\n",
    "              )\n",
    "        nn.init.uniform_(m.weight,-10,10)\n",
    "        m.weight.data*=m.weight.data.abs()>=5\n",
    "net.apply(my_init)\n",
    "net[0].weight[:2]"
   ],
   "metadata": {
    "collapsed": false,
    "ExecuteTime": {
     "end_time": "2024-02-28T07:57:04.641738700Z",
     "start_time": "2024-02-28T07:57:04.618211400Z"
    }
   },
   "id": "7419c98a59431109"
  },
  {
   "cell_type": "code",
   "execution_count": 31,
   "outputs": [
    {
     "name": "stdout",
     "output_type": "stream",
     "text": [
      "tensor([True, True, True, True, True, True, True, True])\n"
     ]
    }
   ],
   "source": [
    "#参数绑定\n",
    "shared=nn.Linear(8,8)\n",
    "net=nn.Sequential(nn.Linear(4,8),nn.ReLU(),shared,nn.ReLU(),shared,nn.ReLU(),nn.Linear(8,1))\n",
    "net(X)\n",
    "print(net[2].weight.data[0]==net[4].weight.data[0])"
   ],
   "metadata": {
    "collapsed": false,
    "ExecuteTime": {
     "end_time": "2024-02-28T08:06:12.914329400Z",
     "start_time": "2024-02-28T08:06:12.587440400Z"
    }
   },
   "id": "4ab932596531399a"
  },
  {
   "cell_type": "code",
   "execution_count": 34,
   "outputs": [
    {
     "data": {
      "text/plain": "tensor([-2., -1.,  0.,  1.,  2.])"
     },
     "execution_count": 34,
     "metadata": {},
     "output_type": "execute_result"
    }
   ],
   "source": [
    "#自定义个层 构造一个没有任何参数的自定义层\n",
    "import torch\n",
    "import torch.nn.functional as  F\n",
    "from torch import nn\n",
    "\n",
    "class CenteredLayer(nn.Module):\n",
    "    def __init__(self):\n",
    "        super().__init__()\n",
    "    def forward(self,X):\n",
    "        return X-X.mean()\n",
    "\n",
    "layer=CenteredLayer()\n",
    "layer(torch.FloatTensor([1,2,3,4,5]))"
   ],
   "metadata": {
    "collapsed": false,
    "ExecuteTime": {
     "end_time": "2024-02-28T08:13:40.770820600Z",
     "start_time": "2024-02-28T08:13:40.260223600Z"
    }
   },
   "id": "f6f13a213e09797c"
  },
  {
   "cell_type": "code",
   "execution_count": 35,
   "outputs": [
    {
     "data": {
      "text/plain": "tensor(2.7940e-09, grad_fn=<MeanBackward0>)"
     },
     "execution_count": 35,
     "metadata": {},
     "output_type": "execute_result"
    }
   ],
   "source": [
    "#将层作为组件合并到构建更复杂的模型中\n",
    "net=nn.Sequential(nn.Linear(8,128),CenteredLayer())\n",
    "\n",
    "Y=net(torch.rand(4,8))\n",
    "Y.mean()"
   ],
   "metadata": {
    "collapsed": false,
    "ExecuteTime": {
     "end_time": "2024-02-28T08:16:27.188000400Z",
     "start_time": "2024-02-28T08:16:26.592847200Z"
    }
   },
   "id": "d99cd4f1ede263d1"
  },
  {
   "cell_type": "code",
   "execution_count": 37,
   "outputs": [
    {
     "data": {
      "text/plain": "Parameter containing:\ntensor([[ 0.1821, -0.3363,  1.2713],\n        [ 1.1114, -0.8295, -1.2814],\n        [ 1.8803,  1.6465, -0.3398],\n        [ 0.0374, -0.9628,  2.5953],\n        [ 1.1263,  0.2478, -0.5891]], requires_grad=True)"
     },
     "execution_count": 37,
     "metadata": {},
     "output_type": "execute_result"
    }
   ],
   "source": [
    "#自定义一个线性模型\n",
    "class MyLinear(nn.Module):\n",
    "    def __init__(self,in_units,units):\n",
    "        super().__init__()\n",
    "        self.weight=nn.Parameter(torch.randn(in_units,units))\n",
    "        self.bias=nn.Parameter(torch.randn(units,))\n",
    "    def forward(self,X):\n",
    "        linear=torch.matmul(X,self.weight.data)+self.bias.data\n",
    "        return F.relu(linear)\n",
    "dense=MyLinear(5,3)\n",
    "dense.weight"
   ],
   "metadata": {
    "collapsed": false,
    "ExecuteTime": {
     "end_time": "2024-02-28T08:23:37.503255400Z",
     "start_time": "2024-02-28T08:23:37.040078500Z"
    }
   },
   "id": "382f999107058139"
  },
  {
   "cell_type": "code",
   "execution_count": 38,
   "outputs": [
    {
     "data": {
      "text/plain": "tensor([0, 1, 2, 3])"
     },
     "execution_count": 38,
     "metadata": {},
     "output_type": "execute_result"
    }
   ],
   "source": [
    "#读写文件 报错训练好的模型\n",
    "import torch\n",
    "from torch import nn\n",
    "from torch.nn import functional as  F\n",
    "\n",
    "x=torch.arange(4)\n",
    "torch.save(x,'x-file')\n",
    "x2=torch.load(\"x-file\")\n",
    "x2"
   ],
   "metadata": {
    "collapsed": false,
    "ExecuteTime": {
     "end_time": "2024-02-28T08:36:14.475459200Z",
     "start_time": "2024-02-28T08:36:10.353803400Z"
    }
   },
   "id": "19f94795a30afa3f"
  },
  {
   "cell_type": "code",
   "execution_count": 46,
   "outputs": [
    {
     "name": "stdout",
     "output_type": "stream",
     "text": [
      "OrderedDict([('hidden.weight', tensor([[-0.0311,  0.0082,  0.0464,  ..., -0.1226,  0.1595,  0.1827],\n",
      "        [ 0.0442,  0.1065, -0.1639,  ...,  0.0082,  0.0331, -0.1212],\n",
      "        [ 0.1646,  0.0586, -0.0820,  ...,  0.0434, -0.1117,  0.0766],\n",
      "        ...,\n",
      "        [ 0.0465, -0.0363,  0.1441,  ...,  0.1482,  0.0459, -0.0894],\n",
      "        [ 0.0827,  0.0995, -0.0736,  ..., -0.0425,  0.0896,  0.0827],\n",
      "        [ 0.0088,  0.2214, -0.1845,  ...,  0.0983,  0.2188, -0.1782]])), ('hidden.bias', tensor([ 0.1971,  0.1022, -0.1907, -0.1759, -0.1231, -0.2226,  0.0671, -0.0821,\n",
      "         0.0201,  0.0263, -0.0987,  0.1530,  0.1816,  0.1677,  0.0724, -0.0162,\n",
      "         0.1157,  0.2058,  0.0453,  0.0908,  0.0809, -0.0442,  0.1647, -0.0873,\n",
      "        -0.0636,  0.0684,  0.1343,  0.0587,  0.1921, -0.0102, -0.0255, -0.2144,\n",
      "         0.1971,  0.0031,  0.1754,  0.0208,  0.0699,  0.0284,  0.0735, -0.0973,\n",
      "        -0.1581,  0.2067,  0.1885, -0.0691,  0.1343, -0.1236, -0.1698, -0.0325,\n",
      "        -0.1686,  0.0061, -0.0471,  0.0972, -0.1596, -0.0612, -0.0259,  0.1097,\n",
      "        -0.0818,  0.0266,  0.1823,  0.0122,  0.0603,  0.1600,  0.1917, -0.1539,\n",
      "         0.0159, -0.1322, -0.0005,  0.1779,  0.2227, -0.1495,  0.0605,  0.1741,\n",
      "        -0.2218,  0.0153,  0.0490, -0.1068,  0.1860, -0.1591,  0.1439,  0.0374,\n",
      "        -0.0878,  0.0972, -0.0437,  0.0130,  0.1008, -0.0164, -0.1993, -0.0150,\n",
      "         0.1986,  0.0767,  0.0036, -0.1867,  0.0225, -0.1226, -0.0850,  0.1150,\n",
      "         0.1453,  0.0557,  0.0653, -0.1880,  0.0715, -0.1634, -0.0693, -0.0098,\n",
      "        -0.1852, -0.1443,  0.1506, -0.0681, -0.2025,  0.1415,  0.2141,  0.0522,\n",
      "         0.2228, -0.1371, -0.1438, -0.2037,  0.1382, -0.0377,  0.0332,  0.1891,\n",
      "         0.1223, -0.0050, -0.0142,  0.0757,  0.2177,  0.0630, -0.0020, -0.1650,\n",
      "        -0.0908, -0.2231,  0.0830,  0.1459,  0.0608, -0.2170, -0.1917, -0.1024,\n",
      "        -0.0460, -0.1565, -0.1289, -0.0838, -0.0066,  0.1934,  0.1705,  0.0024,\n",
      "        -0.1771, -0.1987,  0.1834,  0.2072,  0.0554, -0.0164, -0.1613, -0.0737,\n",
      "        -0.1073, -0.0024,  0.0975,  0.1458, -0.1983, -0.0839, -0.2157, -0.0412,\n",
      "         0.0118,  0.0410, -0.0089, -0.2181,  0.0561,  0.0803, -0.1570, -0.1265,\n",
      "         0.0308,  0.0131, -0.0388, -0.0167, -0.1330, -0.0144, -0.0899, -0.2033,\n",
      "         0.0239,  0.0308, -0.1111, -0.1703,  0.1124, -0.1328, -0.0407, -0.0165,\n",
      "        -0.0490, -0.0449, -0.1718,  0.0697, -0.0663,  0.0387,  0.0232, -0.2041,\n",
      "        -0.1942,  0.0858, -0.0326, -0.0907,  0.0589, -0.0321, -0.1311, -0.0977,\n",
      "        -0.0620, -0.0874, -0.1435, -0.0670, -0.0989,  0.1038,  0.0779, -0.1090,\n",
      "         0.1820, -0.1624,  0.0380,  0.0207, -0.0012, -0.0158, -0.0765, -0.0010,\n",
      "        -0.1087,  0.1398,  0.0875, -0.1739,  0.2217, -0.1867, -0.0052,  0.0505,\n",
      "         0.1022, -0.0057,  0.1536, -0.2153,  0.0197,  0.1310,  0.1831, -0.0233,\n",
      "         0.1741,  0.0408, -0.0821,  0.0693,  0.0942,  0.0882,  0.1936,  0.1435,\n",
      "        -0.1333, -0.0472, -0.1615,  0.0240, -0.1300, -0.1438,  0.0790, -0.0212,\n",
      "         0.1038,  0.0131, -0.1866, -0.0669, -0.1017, -0.1918,  0.2115, -0.0112])), ('output.weight', tensor([[ 0.0431, -0.0364, -0.0482,  ..., -0.0435,  0.0303,  0.0615],\n",
      "        [-0.0018,  0.0566, -0.0535,  ...,  0.0302,  0.0497, -0.0595],\n",
      "        [ 0.0155, -0.0539, -0.0319,  ...,  0.0590,  0.0614, -0.0584],\n",
      "        ...,\n",
      "        [-0.0413, -0.0123,  0.0068,  ...,  0.0372,  0.0596,  0.0241],\n",
      "        [-0.0348,  0.0382, -0.0444,  ..., -0.0558,  0.0190, -0.0372],\n",
      "        [ 0.0368,  0.0107,  0.0155,  ...,  0.0521, -0.0615, -0.0324]])), ('output.bias', tensor([-0.0075,  0.0591,  0.0245,  0.0103, -0.0243,  0.0230, -0.0502,  0.0335,\n",
      "        -0.0529,  0.0339]))])\n",
      "<class 'collections.OrderedDict'>\n"
     ]
    }
   ],
   "source": [
    "#加载和保存模型参数\n",
    "class MLP(nn.Module):\n",
    "    def __init__(self):\n",
    "        super().__init__()\n",
    "        self.hidden=nn.Linear(20,256)\n",
    "        self.output=nn.Linear(256,10)\n",
    "    def forward(self,x):\n",
    "        return self.output(F.relu(self.hidden(x)))\n",
    "net=MLP()\n",
    "X=torch.randn(size=(2,20))\n",
    "Y=net(X)\n",
    "torch.save(net.state_dict(),'mlp.params')\n",
    "print(net.state_dict())\n",
    "print(type(net.state_dict()))"
   ],
   "metadata": {
    "collapsed": false,
    "ExecuteTime": {
     "end_time": "2024-02-28T08:48:57.424507300Z",
     "start_time": "2024-02-28T08:48:57.250289500Z"
    }
   },
   "id": "53398978b7cbc83c"
  },
  {
   "cell_type": "code",
   "execution_count": 47,
   "outputs": [
    {
     "data": {
      "text/plain": "MLP(\n  (hidden): Linear(in_features=20, out_features=256, bias=True)\n  (output): Linear(in_features=256, out_features=10, bias=True)\n)"
     },
     "execution_count": 47,
     "metadata": {},
     "output_type": "execute_result"
    }
   ],
   "source": [
    "clone=MLP()\n",
    "clone.load_state_dict(torch.load(\"mlp.params\"))\n",
    "clone.eval()"
   ],
   "metadata": {
    "collapsed": false,
    "ExecuteTime": {
     "end_time": "2024-02-28T08:49:41.601408700Z",
     "start_time": "2024-02-28T08:49:41.361818500Z"
    }
   },
   "id": "64fe79c085ff9e3d"
  },
  {
   "cell_type": "code",
   "execution_count": 48,
   "outputs": [
    {
     "data": {
      "text/plain": "tensor([[True, True, True, True, True, True, True, True, True, True],\n        [True, True, True, True, True, True, True, True, True, True]])"
     },
     "execution_count": 48,
     "metadata": {},
     "output_type": "execute_result"
    }
   ],
   "source": [
    "Y_clone=clone(X)\n",
    "Y_clone==Y"
   ],
   "metadata": {
    "collapsed": false,
    "ExecuteTime": {
     "end_time": "2024-02-28T08:50:25.562383400Z",
     "start_time": "2024-02-28T08:50:25.395168200Z"
    }
   },
   "id": "6aa122e18d432bf"
  },
  {
   "cell_type": "code",
   "execution_count": null,
   "outputs": [],
   "source": [],
   "metadata": {
    "collapsed": false
   },
   "id": "8ea579f2bd9d2627"
  }
 ],
 "metadata": {
  "kernelspec": {
   "display_name": "Python 3",
   "language": "python",
   "name": "python3"
  },
  "language_info": {
   "codemirror_mode": {
    "name": "ipython",
    "version": 2
   },
   "file_extension": ".py",
   "mimetype": "text/x-python",
   "name": "python",
   "nbconvert_exporter": "python",
   "pygments_lexer": "ipython2",
   "version": "2.7.6"
  }
 },
 "nbformat": 4,
 "nbformat_minor": 5
}
