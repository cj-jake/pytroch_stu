{
 "cells": [
  {
   "cell_type": "code",
   "execution_count": 2,
   "id": "initial_id",
   "metadata": {
    "collapsed": true,
    "ExecuteTime": {
     "end_time": "2024-02-29T12:32:41.622805400Z",
     "start_time": "2024-02-29T12:32:09.620001600Z"
    }
   },
   "outputs": [],
   "source": [
    "import torch\n",
    "from torch import nn\n",
    "from d2l import torch as d2l\n",
    "\n",
    "def vgg_block(num_convs,in_channels,out_channels):\n",
    "    layers=[]\n",
    "    for _ in range(num_convs):\n",
    "        layers.append(nn.Conv2d(in_channels,out_channels,kernel_size=3,padding=1))\n",
    "        layers.append(nn.ReLU)\n",
    "        in_channels=out_channels\n",
    "    layers.append(nn.MaxPool2d(kernel_size=2,stride=2))\n",
    "    return nn.Sequential(*layers)\n"
   ]
  },
  {
   "cell_type": "code",
   "execution_count": 5,
   "outputs": [
    {
     "ename": "TypeError",
     "evalue": "torch.nn.modules.activation.ReLU is not a Module subclass",
     "output_type": "error",
     "traceback": [
      "\u001B[1;31m---------------------------------------------------------------------------\u001B[0m",
      "\u001B[1;31mTypeError\u001B[0m                                 Traceback (most recent call last)",
      "Cell \u001B[1;32mIn[5], line 14\u001B[0m\n\u001B[0;32m      7\u001B[0m         in_channels\u001B[38;5;241m=\u001B[39mout_channels\n\u001B[0;32m      8\u001B[0m     \u001B[38;5;28;01mreturn\u001B[39;00m nn\u001B[38;5;241m.\u001B[39mSequential(\n\u001B[0;32m      9\u001B[0m         \u001B[38;5;241m*\u001B[39mconv_blks,nn\u001B[38;5;241m.\u001B[39mFlatten(),\n\u001B[0;32m     10\u001B[0m         nn\u001B[38;5;241m.\u001B[39mLinear(out_channels\u001B[38;5;241m*\u001B[39m\u001B[38;5;241m7\u001B[39m\u001B[38;5;241m*\u001B[39m\u001B[38;5;241m7\u001B[39m,\u001B[38;5;241m4096\u001B[39m),nn\u001B[38;5;241m.\u001B[39mReLU(),nn\u001B[38;5;241m.\u001B[39mDropout(\u001B[38;5;241m0.5\u001B[39m),\n\u001B[0;32m     11\u001B[0m         nn\u001B[38;5;241m.\u001B[39mLinear(\u001B[38;5;241m4096\u001B[39m,\u001B[38;5;241m4096\u001B[39m),nn\u001B[38;5;241m.\u001B[39mReLU(),nn\u001B[38;5;241m.\u001B[39mDropout(\u001B[38;5;241m0.5\u001B[39m),\n\u001B[0;32m     12\u001B[0m         nn\u001B[38;5;241m.\u001B[39mLinear(\u001B[38;5;241m4096\u001B[39m,\u001B[38;5;241m10\u001B[39m)\n\u001B[0;32m     13\u001B[0m     )\n\u001B[1;32m---> 14\u001B[0m net\u001B[38;5;241m=\u001B[39mvgg(conv_arch)\n",
      "Cell \u001B[1;32mIn[5], line 6\u001B[0m, in \u001B[0;36mvgg\u001B[1;34m(conv_arch)\u001B[0m\n\u001B[0;32m      4\u001B[0m in_channels\u001B[38;5;241m=\u001B[39m\u001B[38;5;241m1\u001B[39m\n\u001B[0;32m      5\u001B[0m \u001B[38;5;28;01mfor\u001B[39;00m (num_convs,out_channels) \u001B[38;5;129;01min\u001B[39;00m conv_arch:\n\u001B[1;32m----> 6\u001B[0m     conv_blks\u001B[38;5;241m.\u001B[39mappend(vgg_block(num_convs,in_channels,out_channels))\n\u001B[0;32m      7\u001B[0m     in_channels\u001B[38;5;241m=\u001B[39mout_channels\n\u001B[0;32m      8\u001B[0m \u001B[38;5;28;01mreturn\u001B[39;00m nn\u001B[38;5;241m.\u001B[39mSequential(\n\u001B[0;32m      9\u001B[0m     \u001B[38;5;241m*\u001B[39mconv_blks,nn\u001B[38;5;241m.\u001B[39mFlatten(),\n\u001B[0;32m     10\u001B[0m     nn\u001B[38;5;241m.\u001B[39mLinear(out_channels\u001B[38;5;241m*\u001B[39m\u001B[38;5;241m7\u001B[39m\u001B[38;5;241m*\u001B[39m\u001B[38;5;241m7\u001B[39m,\u001B[38;5;241m4096\u001B[39m),nn\u001B[38;5;241m.\u001B[39mReLU(),nn\u001B[38;5;241m.\u001B[39mDropout(\u001B[38;5;241m0.5\u001B[39m),\n\u001B[0;32m     11\u001B[0m     nn\u001B[38;5;241m.\u001B[39mLinear(\u001B[38;5;241m4096\u001B[39m,\u001B[38;5;241m4096\u001B[39m),nn\u001B[38;5;241m.\u001B[39mReLU(),nn\u001B[38;5;241m.\u001B[39mDropout(\u001B[38;5;241m0.5\u001B[39m),\n\u001B[0;32m     12\u001B[0m     nn\u001B[38;5;241m.\u001B[39mLinear(\u001B[38;5;241m4096\u001B[39m,\u001B[38;5;241m10\u001B[39m)\n\u001B[0;32m     13\u001B[0m )\n",
      "Cell \u001B[1;32mIn[2], line 12\u001B[0m, in \u001B[0;36mvgg_block\u001B[1;34m(num_convs, in_channels, out_channels)\u001B[0m\n\u001B[0;32m     10\u001B[0m     in_channels\u001B[38;5;241m=\u001B[39mout_channels\n\u001B[0;32m     11\u001B[0m layers\u001B[38;5;241m.\u001B[39mappend(nn\u001B[38;5;241m.\u001B[39mMaxPool2d(kernel_size\u001B[38;5;241m=\u001B[39m\u001B[38;5;241m2\u001B[39m,stride\u001B[38;5;241m=\u001B[39m\u001B[38;5;241m2\u001B[39m))\n\u001B[1;32m---> 12\u001B[0m \u001B[38;5;28;01mreturn\u001B[39;00m nn\u001B[38;5;241m.\u001B[39mSequential(\u001B[38;5;241m*\u001B[39mlayers)\n",
      "File \u001B[1;32mF:\\softs\\program\\pycharm23\\conda\\envs\\pytroch20\\Lib\\site-packages\\torch\\nn\\modules\\container.py:104\u001B[0m, in \u001B[0;36mSequential.__init__\u001B[1;34m(self, *args)\u001B[0m\n\u001B[0;32m    102\u001B[0m \u001B[38;5;28;01melse\u001B[39;00m:\n\u001B[0;32m    103\u001B[0m     \u001B[38;5;28;01mfor\u001B[39;00m idx, module \u001B[38;5;129;01min\u001B[39;00m \u001B[38;5;28menumerate\u001B[39m(args):\n\u001B[1;32m--> 104\u001B[0m         \u001B[38;5;28mself\u001B[39m\u001B[38;5;241m.\u001B[39madd_module(\u001B[38;5;28mstr\u001B[39m(idx), module)\n",
      "File \u001B[1;32mF:\\softs\\program\\pycharm23\\conda\\envs\\pytroch20\\Lib\\site-packages\\torch\\nn\\modules\\module.py:596\u001B[0m, in \u001B[0;36mModule.add_module\u001B[1;34m(self, name, module)\u001B[0m\n\u001B[0;32m    586\u001B[0m \u001B[38;5;250m\u001B[39m\u001B[38;5;124mr\u001B[39m\u001B[38;5;124;03m\"\"\"Adds a child module to the current module.\u001B[39;00m\n\u001B[0;32m    587\u001B[0m \n\u001B[0;32m    588\u001B[0m \u001B[38;5;124;03mThe module can be accessed as an attribute using the given name.\u001B[39;00m\n\u001B[1;32m   (...)\u001B[0m\n\u001B[0;32m    593\u001B[0m \u001B[38;5;124;03m    module (Module): child module to be added to the module.\u001B[39;00m\n\u001B[0;32m    594\u001B[0m \u001B[38;5;124;03m\"\"\"\u001B[39;00m\n\u001B[0;32m    595\u001B[0m \u001B[38;5;28;01mif\u001B[39;00m \u001B[38;5;129;01mnot\u001B[39;00m \u001B[38;5;28misinstance\u001B[39m(module, Module) \u001B[38;5;129;01mand\u001B[39;00m module \u001B[38;5;129;01mis\u001B[39;00m \u001B[38;5;129;01mnot\u001B[39;00m \u001B[38;5;28;01mNone\u001B[39;00m:\n\u001B[1;32m--> 596\u001B[0m     \u001B[38;5;28;01mraise\u001B[39;00m \u001B[38;5;167;01mTypeError\u001B[39;00m(\u001B[38;5;124m\"\u001B[39m\u001B[38;5;132;01m{}\u001B[39;00m\u001B[38;5;124m is not a Module subclass\u001B[39m\u001B[38;5;124m\"\u001B[39m\u001B[38;5;241m.\u001B[39mformat(\n\u001B[0;32m    597\u001B[0m         torch\u001B[38;5;241m.\u001B[39mtypename(module)))\n\u001B[0;32m    598\u001B[0m \u001B[38;5;28;01melif\u001B[39;00m \u001B[38;5;129;01mnot\u001B[39;00m \u001B[38;5;28misinstance\u001B[39m(name, \u001B[38;5;28mstr\u001B[39m):\n\u001B[0;32m    599\u001B[0m     \u001B[38;5;28;01mraise\u001B[39;00m \u001B[38;5;167;01mTypeError\u001B[39;00m(\u001B[38;5;124m\"\u001B[39m\u001B[38;5;124mmodule name should be a string. Got \u001B[39m\u001B[38;5;132;01m{}\u001B[39;00m\u001B[38;5;124m\"\u001B[39m\u001B[38;5;241m.\u001B[39mformat(\n\u001B[0;32m    600\u001B[0m         torch\u001B[38;5;241m.\u001B[39mtypename(name)))\n",
      "\u001B[1;31mTypeError\u001B[0m: torch.nn.modules.activation.ReLU is not a Module subclass"
     ]
    }
   ],
   "source": [
    "conv_arch=((1,64),(1,128),(2,256),(2,512),(2,512))\n",
    "def vgg(conv_arch):\n",
    "    conv_blks=[]\n",
    "    in_channels=1\n",
    "    for (num_convs,out_channels) in conv_arch:\n",
    "        conv_blks.append(vgg_block(num_convs,in_channels,out_channels))\n",
    "        in_channels=out_channels\n",
    "    return nn.Sequential(\n",
    "        *conv_blks,nn.Flatten(),\n",
    "        nn.Linear(out_channels*7*7,4096),nn.ReLU(),nn.Dropout(0.5),\n",
    "        nn.Linear(4096,4096),nn.ReLU(),nn.Dropout(0.5),\n",
    "        nn.Linear(4096,10)\n",
    "    )\n",
    "net=vgg(conv_arch)"
   ],
   "metadata": {
    "collapsed": false,
    "ExecuteTime": {
     "end_time": "2024-02-29T12:43:58.910579800Z",
     "start_time": "2024-02-29T12:43:58.493590900Z"
    }
   },
   "id": "63df26e34e6191e4"
  },
  {
   "cell_type": "code",
   "execution_count": 4,
   "outputs": [
    {
     "ename": "NameError",
     "evalue": "name 'net' is not defined",
     "output_type": "error",
     "traceback": [
      "\u001B[1;31m---------------------------------------------------------------------------\u001B[0m",
      "\u001B[1;31mNameError\u001B[0m                                 Traceback (most recent call last)",
      "Cell \u001B[1;32mIn[4], line 2\u001B[0m\n\u001B[0;32m      1\u001B[0m X\u001B[38;5;241m=\u001B[39mtorch\u001B[38;5;241m.\u001B[39mrandn(\u001B[38;5;241m1\u001B[39m,\u001B[38;5;241m1\u001B[39m,\u001B[38;5;241m224\u001B[39m,\u001B[38;5;241m224\u001B[39m)\n\u001B[1;32m----> 2\u001B[0m \u001B[38;5;28;01mfor\u001B[39;00m blk \u001B[38;5;129;01min\u001B[39;00m net:\n\u001B[0;32m      3\u001B[0m     X\u001B[38;5;241m=\u001B[39mblk(X)\n\u001B[0;32m      4\u001B[0m     \u001B[38;5;28mprint\u001B[39m(blk\u001B[38;5;241m.\u001B[39m\u001B[38;5;18m__class__\u001B[39m\u001B[38;5;241m.\u001B[39m\u001B[38;5;18m__name__\u001B[39m,\u001B[38;5;124m'\u001B[39m\u001B[38;5;124moutput shape:\u001B[39m\u001B[38;5;130;01m\\t\u001B[39;00m\u001B[38;5;124m'\u001B[39m,X\u001B[38;5;241m.\u001B[39mshape)\n",
      "\u001B[1;31mNameError\u001B[0m: name 'net' is not defined"
     ]
    }
   ],
   "source": [
    "X=torch.randn(1,1,224,224)\n",
    "for blk in net:\n",
    "    X=blk(X)\n",
    "    print(blk.__class__.__name__,'output shape:\\t',X.shape)\n"
   ],
   "metadata": {
    "collapsed": false,
    "ExecuteTime": {
     "end_time": "2024-02-29T12:39:31.901900300Z",
     "start_time": "2024-02-29T12:39:30.018570300Z"
    }
   },
   "id": "cb751162110f425"
  },
  {
   "cell_type": "code",
   "execution_count": null,
   "outputs": [],
   "source": [],
   "metadata": {
    "collapsed": false
   },
   "id": "4d6094ec3c6da9cc"
  }
 ],
 "metadata": {
  "kernelspec": {
   "display_name": "Python 3",
   "language": "python",
   "name": "python3"
  },
  "language_info": {
   "codemirror_mode": {
    "name": "ipython",
    "version": 2
   },
   "file_extension": ".py",
   "mimetype": "text/x-python",
   "name": "python",
   "nbconvert_exporter": "python",
   "pygments_lexer": "ipython2",
   "version": "2.7.6"
  }
 },
 "nbformat": 4,
 "nbformat_minor": 5
}
