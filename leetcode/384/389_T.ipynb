{
 "cells": [
  {
   "cell_type": "code",
   "execution_count": 1,
   "id": "initial_id",
   "metadata": {
    "collapsed": true,
    "ExecuteTime": {
     "end_time": "2024-03-17T02:51:41.641589400Z",
     "start_time": "2024-03-17T02:51:41.368975300Z"
    }
   },
   "outputs": [],
   "source": [
    "import collections\n",
    "\n",
    "\n",
    "#100248. 字符串及其反转中是否存在同一子字符串\n",
    "def isSubstringPresent(self, s: str) -> bool:\n",
    "    for i in range(len(s) - 1):\n",
    "        if s[i:i + 2] in s[::-1]:\n",
    "            return True\n",
    "    return False"
   ]
  },
  {
   "cell_type": "code",
   "execution_count": 2,
   "outputs": [
    {
     "ename": "IndentationError",
     "evalue": "unexpected indent (3119907412.py, line 2)",
     "output_type": "error",
     "traceback": [
      "\u001B[1;36m  Cell \u001B[1;32mIn[2], line 2\u001B[1;36m\u001B[0m\n\u001B[1;33m    def countSubstrings(self, s: str, c: str) -> int:\u001B[0m\n\u001B[1;37m    ^\u001B[0m\n\u001B[1;31mIndentationError\u001B[0m\u001B[1;31m:\u001B[0m unexpected indent\n"
     ]
    }
   ],
   "source": [
    "#给你一个字符串 s 和一个字符 c 。返回在字符串 s 中并且以 c 字符开头和结尾的非空子字符串的总数\n",
    "def countSubstrings(self, s: str, c: str) -> int:\n",
    "    cnt = collections.Counter(s)\n",
    "    ans = sum(range(1, cnt[c] + 1))\n",
    "    if len(s) == cnt[1]:\n",
    "        ans -= cnt[c]\n",
    "    return ans"
   ],
   "metadata": {
    "collapsed": false,
    "ExecuteTime": {
     "end_time": "2024-03-17T03:08:46.975935500Z",
     "start_time": "2024-03-17T03:08:46.896319300Z"
    }
   },
   "id": "9110c184c85753a4"
  },
  {
   "cell_type": "code",
   "execution_count": null,
   "outputs": [],
   "source": [
    "from math import inf\n",
    "from collections import Counter\n",
    "\n",
    "\n",
    "#100255. 成为 K 特殊字符串需要删除的最少字符数\n",
    "def minimumDeletions(self, word: str, k: int) -> int:\n",
    "    A = sorted(Counter(word).values())\n",
    "    res = cur = inf\n",
    "    for a in A:\n",
    "        cur = 0\n",
    "        for b in A:\n",
    "            if b < a:\n",
    "                cur += b\n",
    "            if b > a + k:\n",
    "                cur += b - (a + k)\n",
    "        res = min(res, cur)\n",
    "    return res\n"
   ],
   "metadata": {
    "collapsed": false
   },
   "id": "5c50252f01f39c65"
  }
 ],
 "metadata": {
  "kernelspec": {
   "display_name": "Python 3",
   "language": "python",
   "name": "python3"
  },
  "language_info": {
   "codemirror_mode": {
    "name": "ipython",
    "version": 2
   },
   "file_extension": ".py",
   "mimetype": "text/x-python",
   "name": "python",
   "nbconvert_exporter": "python",
   "pygments_lexer": "ipython2",
   "version": "2.7.6"
  }
 },
 "nbformat": 4,
 "nbformat_minor": 5
}
