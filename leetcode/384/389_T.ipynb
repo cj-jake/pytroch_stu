{
 "cells": [
  {
   "cell_type": "code",
   "execution_count": 1,
   "id": "initial_id",
   "metadata": {
    "collapsed": true,
    "ExecuteTime": {
     "end_time": "2024-03-17T02:51:41.641589400Z",
     "start_time": "2024-03-17T02:51:41.368975300Z"
    }
   },
   "outputs": [],
   "source": [
    "import collections\n",
    "\n",
    "\n",
    "#100248. 字符串及其反转中是否存在同一子字符串\n",
    "def isSubstringPresent(self, s: str) -> bool:\n",
    "    for i in range(len(s) - 1):\n",
    "        if s[i:i + 2] in s[::-1]:\n",
    "            return True\n",
    "    return False"
   ]
  },
  {
   "cell_type": "code",
   "execution_count": 3,
   "outputs": [],
   "source": [
    "#给你一个字符串 s 和一个字符 c 。返回在字符串 s 中并且以 c 字符开头和结尾的非空子字符串的总数\n",
    "def countSubstrings(self, s: str, c: str) -> int:\n",
    "    cnt = collections.Counter(s)\n",
    "    ans = sum(range(1, cnt[c] + 1))\n",
    "    if len(s) == cnt[1]:\n",
    "        ans -= cnt[c]\n",
    "    return ans"
   ],
   "metadata": {
    "collapsed": false,
    "ExecuteTime": {
     "end_time": "2024-03-17T08:25:48.181416200Z",
     "start_time": "2024-03-17T08:25:48.181416200Z"
    }
   },
   "id": "9110c184c85753a4"
  },
  {
   "cell_type": "code",
   "execution_count": 4,
   "outputs": [],
   "source": [
    "from math import inf\n",
    "from collections import Counter\n",
    "\n",
    "\n",
    "#100255. 成为 K 特殊字符串需要删除的最少字符数\n",
    "def minimumDeletions(self, word: str, k: int) -> int:\n",
    "    A = sorted(Counter(word).values())\n",
    "    res = cur = inf\n",
    "    for a in A:\n",
    "        cur = 0\n",
    "        for b in A:\n",
    "            if b < a:\n",
    "                cur += b\n",
    "            if b > a + k:\n",
    "                cur += b - (a + k)\n",
    "        res = min(res, cur)\n",
    "    return res\n"
   ],
   "metadata": {
    "collapsed": false,
    "ExecuteTime": {
     "end_time": "2024-03-17T08:26:07.218141Z",
     "start_time": "2024-03-17T08:26:07.207604200Z"
    }
   },
   "id": "5c50252f01f39c65"
  },
  {
   "cell_type": "code",
   "execution_count": null,
   "outputs": [],
   "source": [],
   "metadata": {
    "collapsed": false
   },
   "id": "98cb79c9e8bdcca0"
  }
 ],
 "metadata": {
  "kernelspec": {
   "display_name": "Python 3",
   "language": "python",
   "name": "python3"
  },
  "language_info": {
   "codemirror_mode": {
    "name": "ipython",
    "version": 2
   },
   "file_extension": ".py",
   "mimetype": "text/x-python",
   "name": "python",
   "nbconvert_exporter": "python",
   "pygments_lexer": "ipython2",
   "version": "2.7.6"
  }
 },
 "nbformat": 4,
 "nbformat_minor": 5
}
