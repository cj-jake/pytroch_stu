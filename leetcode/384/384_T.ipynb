{
 "cells": [
  {
   "cell_type": "code",
   "execution_count": 1,
   "id": "initial_id",
   "metadata": {
    "collapsed": true,
    "ExecuteTime": {
     "end_time": "2024-03-10T02:46:33.385673200Z",
     "start_time": "2024-03-10T02:46:32.546662800Z"
    }
   },
   "outputs": [
    {
     "ename": "NameError",
     "evalue": "name 'List' is not defined",
     "output_type": "error",
     "traceback": [
      "\u001B[1;31m---------------------------------------------------------------------------\u001B[0m",
      "\u001B[1;31mNameError\u001B[0m                                 Traceback (most recent call last)",
      "Cell \u001B[1;32mIn[1], line 1\u001B[0m\n\u001B[1;32m----> 1\u001B[0m \u001B[38;5;28;01mdef\u001B[39;00m \u001B[38;5;21mminimumBoxes\u001B[39m(\u001B[38;5;28mself\u001B[39m, apple: List[\u001B[38;5;28mint\u001B[39m], capacity: List[\u001B[38;5;28mint\u001B[39m]) \u001B[38;5;241m-\u001B[39m\u001B[38;5;241m>\u001B[39m \u001B[38;5;28mint\u001B[39m:\n\u001B[0;32m      2\u001B[0m     capacity\u001B[38;5;241m=\u001B[39m\u001B[38;5;28msorted\u001B[39m(capacity,reverse\u001B[38;5;241m=\u001B[39m\u001B[38;5;28;01mTrue\u001B[39;00m)\n\u001B[0;32m      3\u001B[0m     num\u001B[38;5;241m=\u001B[39m\u001B[38;5;28msum\u001B[39m(apple)\n",
      "\u001B[1;31mNameError\u001B[0m: name 'List' is not defined"
     ]
    }
   ],
   "source": [
    "import collections\n",
    "\n",
    "\n",
    "def minimumBoxes(self, apple: List[int], capacity: List[int]) -> int:\n",
    "    capacity = sorted(capacity, reverse=True)\n",
    "    num = sum(apple)\n",
    "    count = 0\n",
    "    while num > 0:\n",
    "        num -= capacity[count]\n",
    "        count += 1\n",
    "    return count"
   ]
  },
  {
   "cell_type": "code",
   "execution_count": 2,
   "outputs": [
    {
     "ename": "NameError",
     "evalue": "name 'List' is not defined",
     "output_type": "error",
     "traceback": [
      "\u001B[1;31m---------------------------------------------------------------------------\u001B[0m",
      "\u001B[1;31mNameError\u001B[0m                                 Traceback (most recent call last)",
      "Cell \u001B[1;32mIn[2], line 1\u001B[0m\n\u001B[1;32m----> 1\u001B[0m \u001B[38;5;28;01mdef\u001B[39;00m \u001B[38;5;21mmaximumHappinessSum\u001B[39m(\u001B[38;5;28mself\u001B[39m, happiness: List[\u001B[38;5;28mint\u001B[39m], k: \u001B[38;5;28mint\u001B[39m) \u001B[38;5;241m-\u001B[39m\u001B[38;5;241m>\u001B[39m \u001B[38;5;28mint\u001B[39m:\n\u001B[0;32m      2\u001B[0m     happiness\u001B[38;5;241m=\u001B[39m\u001B[38;5;28msorted\u001B[39m(happiness,reverse\u001B[38;5;241m=\u001B[39m\u001B[38;5;28;01mTrue\u001B[39;00m)\n\u001B[0;32m      3\u001B[0m     \u001B[38;5;66;03m#找到被选中的数量\u001B[39;00m\n",
      "\u001B[1;31mNameError\u001B[0m: name 'List' is not defined"
     ]
    }
   ],
   "source": [
    "def maximumHappinessSum(self, happiness: List[int], k: int) -> int:\n",
    "happiness = sorted(happiness, reverse=True)\n",
    "#找到被选中的数量\n",
    "c = 0\n",
    "for i in range(k):\n",
    "    if happiness[i] < k:\n",
    "        c += k - happiness[i]\n",
    "ans = sum(happiness[:k]) - k + 1 + c\n",
    "return ans"
   ],
   "metadata": {
    "collapsed": false,
    "ExecuteTime": {
     "end_time": "2024-03-11T00:59:38.201305700Z",
     "start_time": "2024-03-11T00:59:37.120252200Z"
    }
   },
   "id": "9b63970c6bd2ca60"
  },
  {
   "cell_type": "code",
   "execution_count": null,
   "outputs": [],
   "source": [
    "def capitalizeTitle(self, title: str) -> str:\n",
    "    s_list = list(title.split())\n",
    "    f_words = []\n",
    "    for s in s_list:\n",
    "        if len(s) <= 2:\n",
    "            f_words.append(s.lower())\n",
    "        else:\n",
    "            f_words.append(s.lower().capitalize())\n",
    "    return ' '.join(f_words)"
   ],
   "metadata": {
    "collapsed": false
   },
   "id": "a8e380926d72a1fc"
  },
  {
   "cell_type": "code",
   "execution_count": null,
   "outputs": [],
   "source": [],
   "metadata": {
    "collapsed": false
   },
   "id": "87f3adcd1d2ca242"
  }
 ],
 "metadata": {
  "kernelspec": {
   "display_name": "Python 3",
   "language": "python",
   "name": "python3"
  },
  "language_info": {
   "codemirror_mode": {
    "name": "ipython",
    "version": 2
   },
   "file_extension": ".py",
   "mimetype": "text/x-python",
   "name": "python",
   "nbconvert_exporter": "python",
   "pygments_lexer": "ipython2",
   "version": "2.7.6"
  }
 },
 "nbformat": 4,
 "nbformat_minor": 5
}
