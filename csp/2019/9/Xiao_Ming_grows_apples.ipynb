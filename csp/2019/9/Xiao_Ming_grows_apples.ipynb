{
 "cells": [
  {
   "cell_type": "code",
   "execution_count": 2,
   "id": "initial_id",
   "metadata": {
    "collapsed": true,
    "ExecuteTime": {
     "end_time": "2024-03-22T03:48:33.278779100Z",
     "start_time": "2024-03-22T03:48:10.123338100Z"
    }
   },
   "outputs": [
    {
     "name": "stdout",
     "output_type": "stream",
     "text": [
      "17 1 4\n"
     ]
    }
   ],
   "source": [
    "n,m=map(int,input().split())\n",
    "T=0\n",
    "k=0\n",
    "p=0\n",
    "st=[0]\n",
    "for i in range(n):\n",
    "    apples=list(map(int,input().split()))\n",
    "    T+=apples[0]\n",
    "    diff=0\n",
    "    for j in range(1,m+1):\n",
    "        T+=apples[j]\n",
    "        diff-=apples[j]\n",
    "    if diff>st[-1]:\n",
    "        st.append(diff)\n",
    "        p=diff\n",
    "        k=i+1\n",
    "print(f\"{T} {k} {p}\")"
   ]
  },
  {
   "cell_type": "code",
   "execution_count": 4,
   "outputs": [
    {
     "ename": "TypeError",
     "evalue": "unsupported operand type(s) for -: 'list' and 'int'",
     "output_type": "error",
     "traceback": [
      "\u001B[1;31m---------------------------------------------------------------------------\u001B[0m",
      "\u001B[1;31mTypeError\u001B[0m                                 Traceback (most recent call last)",
      "Cell \u001B[1;32mIn[4], line 31\u001B[0m\n\u001B[0;32m     29\u001B[0m \u001B[38;5;28;01mif\u001B[39;00m st[\u001B[38;5;28mlen\u001B[39m(st)\u001B[38;5;241m-\u001B[39m\u001B[38;5;241m1\u001B[39m]\u001B[38;5;241m==\u001B[39mst[\u001B[38;5;28mlen\u001B[39m(st)\u001B[38;5;241m-\u001B[39m\u001B[38;5;241m2\u001B[39m]:\n\u001B[0;32m     30\u001B[0m     E\u001B[38;5;241m+\u001B[39m\u001B[38;5;241m=\u001B[39m\u001B[38;5;241m1\u001B[39m\n\u001B[1;32m---> 31\u001B[0m \u001B[38;5;28;01mfor\u001B[39;00m i \u001B[38;5;129;01min\u001B[39;00m \u001B[38;5;28mrange\u001B[39m(\u001B[38;5;241m1\u001B[39m,\u001B[38;5;28mlen\u001B[39m(st\u001B[38;5;241m-\u001B[39m\u001B[38;5;241m3\u001B[39m)):\n\u001B[0;32m     32\u001B[0m     \u001B[38;5;28;01mif\u001B[39;00m st[i\u001B[38;5;241m+\u001B[39m\u001B[38;5;241m1\u001B[39m]\u001B[38;5;241m*\u001B[39m\u001B[38;5;241m2\u001B[39m\u001B[38;5;241m==\u001B[39m(st[i]\u001B[38;5;241m+\u001B[39mst[i\u001B[38;5;241m+\u001B[39m\u001B[38;5;241m2\u001B[39m]):\n\u001B[0;32m     33\u001B[0m         E\u001B[38;5;241m+\u001B[39m\u001B[38;5;241m=\u001B[39m\u001B[38;5;241m1\u001B[39m\n",
      "\u001B[1;31mTypeError\u001B[0m: unsupported operand type(s) for -: 'list' and 'int'"
     ]
    }
   ],
   "source": [
    "n = int(input())\n",
    "T = 0\n",
    "D = 0\n",
    "E = 0\n",
    "# 记录苹果掉落得棵树\n",
    "st = [0] * n\n",
    "for i in range(n):\n",
    "    apples = list(map(int, input().split()))\n",
    "    T1 = apples[1]\n",
    "    falg=False\n",
    "    for apple in apples[2:]:\n",
    "        if apple<= 0:\n",
    "            T1 += apple\n",
    "        else:\n",
    "            if T1 != apple:\n",
    "                T1 = apple\n",
    "                falg=True\n",
    "    if falg:\n",
    "        D += 1\n",
    "        st[i] = 1\n",
    "    T += T1\n",
    "    # 进行E得计算\n",
    "if st[n - 1] == st[n - 2] == st[0] == 1:\n",
    "    E += 1\n",
    "if st[n - 1] == st[0] == st[1] == 1:\n",
    "    E += 1\n",
    "for i in range(n - 2):\n",
    "    if st[i] == st[i + 1] == st[i + 2] == 1:\n",
    "        E += 1\n",
    "\n",
    "print(f\"{T} {D} {E}\")"
   ],
   "metadata": {
    "collapsed": false,
    "ExecuteTime": {
     "end_time": "2024-03-22T04:14:25.098521800Z",
     "start_time": "2024-03-22T04:13:43.301512500Z"
    }
   },
   "id": "a72bed8c017d9ad0"
  },
  {
   "cell_type": "code",
   "execution_count": null,
   "outputs": [],
   "source": [],
   "metadata": {
    "collapsed": false
   },
   "id": "91fd7ec173393948"
  }
 ],
 "metadata": {
  "kernelspec": {
   "display_name": "Python 3",
   "language": "python",
   "name": "python3"
  },
  "language_info": {
   "codemirror_mode": {
    "name": "ipython",
    "version": 2
   },
   "file_extension": ".py",
   "mimetype": "text/x-python",
   "name": "python",
   "nbconvert_exporter": "python",
   "pygments_lexer": "ipython2",
   "version": "2.7.6"
  }
 },
 "nbformat": 4,
 "nbformat_minor": 5
}
