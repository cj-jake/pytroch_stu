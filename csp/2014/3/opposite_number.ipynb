{
 "cells": [
  {
   "cell_type": "code",
   "execution_count": 3,
   "id": "initial_id",
   "metadata": {
    "collapsed": true,
    "ExecuteTime": {
     "end_time": "2024-02-29T00:49:53.255778900Z",
     "start_time": "2024-02-29T00:49:45.745071400Z"
    }
   },
   "outputs": [
    {
     "name": "stdout",
     "output_type": "stream",
     "text": [
      "2\n"
     ]
    }
   ],
   "source": [
    "#相反数\n",
    "n = int(input())\n",
    "numbers = list(map(int, input().split(' ')))\n",
    "dict_numbers = {}\n",
    "for i in numbers:\n",
    "    if abs(i) in dict_numbers:\n",
    "        dict_numbers[abs(i)] += 1\n",
    "    else:\n",
    "        dict_numbers[abs(i)] = 1\n",
    "count = 0\n",
    "for key, value in dict_numbers.items():\n",
    "    if value == 2: count += 1\n",
    "print(count)"
   ]
  },
  {
   "cell_type": "code",
   "execution_count": 12,
   "outputs": [
    {
     "name": "stdout",
     "output_type": "stream",
     "text": [
      "2\n",
      "1\n",
      "1\n",
      "IGNORED\n"
     ]
    }
   ],
   "source": [
    "#窗口\n",
    "n, m = map(int, input().split(' '))\n",
    "windows = []\n",
    "for i in range(n):\n",
    "    window = list(map(int, input().split(' ')))\n",
    "    windows.append(window)\n",
    "clicks = []\n",
    "for i in range(m):\n",
    "    click = list(map(int, input().split(' ')))\n",
    "    clicks.append(click)\n",
    "tops = [i for i in range(n - 1, -1, -1)]\n",
    "for click in clicks:\n",
    "    falg = True\n",
    "    for top in tops:\n",
    "        if windows[top][0] <= click[0] <= windows[top][2] and windows[top][1] <= click[1] <= windows[top][3]:\n",
    "            print(top + 1)\n",
    "            tops.remove(top)\n",
    "            tops.insert(0, top)\n",
    "            falg = False\n",
    "            break\n",
    "    if falg: print(\"IGNORED\")\n",
    "\n"
   ],
   "metadata": {
    "collapsed": false,
    "ExecuteTime": {
     "end_time": "2024-02-29T01:57:39.775610Z",
     "start_time": "2024-02-29T01:57:10.080723700Z"
    }
   },
   "id": "c34c05ca7c24dbed"
  },
  {
   "cell_type": "code",
   "execution_count": 58,
   "outputs": [
    {
     "name": "stdout",
     "output_type": "stream",
     "text": [
      "Case 1: -w 10\n"
     ]
    }
   ],
   "source": [
    "#命令行选项\n",
    "options = list(input())\n",
    "has_option = []\n",
    "no_option = []\n",
    "for option in options:\n",
    "    if option == ':':\n",
    "        last = no_option.pop()\n",
    "        has_option.append(last)\n",
    "    else:\n",
    "        no_option.append('-' + option)\n",
    "n = int(input())\n",
    "ans = []\n",
    "for i in range(n):\n",
    "    command = list(input().split(' '))\n",
    "    temp = []\n",
    "    if command[0] != 'ls':\n",
    "        break\n",
    "    else:\n",
    "        if len(command) == 1:\n",
    "            ans.append(temp)\n",
    "            continue\n",
    "        for j in range(1, len(command)):\n",
    "            falg = -1\n",
    "            opt=command[j]\n",
    "            if opt in no_option:\n",
    "                if opt not in temp:\n",
    "                    temp.append(opt)\n",
    "            elif opt in has_option:\n",
    "                if opt not in temp:\n",
    "                    temp.append(opt)\n",
    "                    temp.append(command[j + 1])\n",
    "                    falg = j-1 \n",
    "                else:\n",
    "                    temp[falg] = command[j + 1]\n",
    "            else:\n",
    "                break\n",
    "    ans.append(temp)\n",
    "\n",
    "ans_sort = [sorted(sublist) for sublist in ans]\n",
    "for i, ans in enumerate(ans_sort):\n",
    "    print(f'Case {i + 1}: {\" \".join(t for t in ans)}')"
   ],
   "metadata": {
    "collapsed": false,
    "ExecuteTime": {
     "end_time": "2024-02-29T04:49:27.352308700Z",
     "start_time": "2024-02-29T04:49:09.386378Z"
    }
   },
   "id": "917e585d2f485670"
  },
  {
   "cell_type": "code",
   "execution_count": 61,
   "outputs": [
    {
     "name": "stdout",
     "output_type": "stream",
     "text": [
      "1\n",
      "2\n",
      "3\n",
      "4\n",
      "5\n",
      "6\n",
      "7\n",
      "8\n",
      "9\n",
      "10\n",
      "11\n",
      "12\n",
      "13\n",
      "14\n",
      "15\n",
      "16\n",
      "17\n",
      "18\n",
      "19\n",
      "20\n",
      "21\n",
      "22\n",
      "23\n",
      "24\n",
      "25\n",
      "26\n",
      "27\n",
      "28\n",
      "29\n",
      "30\n",
      "31\n",
      "32\n",
      "33\n",
      "34\n",
      "35\n",
      "36\n",
      "37\n",
      "38\n",
      "39\n",
      "40\n",
      "41\n",
      "42\n",
      "43\n",
      "44\n",
      "45\n",
      "46\n",
      "47\n",
      "48\n",
      "49\n",
      "50\n",
      "51\n",
      "52\n",
      "53\n",
      "54\n",
      "55\n",
      "56\n",
      "57\n",
      "58\n",
      "59\n",
      "60\n",
      "61\n",
      "62\n",
      "63\n",
      "64\n",
      "65\n",
      "66\n",
      "67\n",
      "68\n",
      "69\n",
      "70\n",
      "71\n",
      "72\n",
      "73\n",
      "74\n",
      "75\n",
      "76\n",
      "77\n",
      "78\n",
      "79\n",
      "80\n",
      "81\n",
      "82\n",
      "83\n",
      "84\n",
      "85\n",
      "86\n",
      "87\n",
      "88\n",
      "89\n",
      "90\n",
      "91\n",
      "92\n",
      "93\n",
      "94\n",
      "95\n",
      "96\n",
      "97\n",
      "98\n",
      "99\n"
     ]
    }
   ],
   "source": [
    "for i in range(1,100):\n",
    "    print(i)\n",
    "    i+=2"
   ],
   "metadata": {
    "collapsed": false,
    "ExecuteTime": {
     "end_time": "2024-02-29T07:00:05.365293400Z",
     "start_time": "2024-02-29T07:00:05.299797500Z"
    }
   },
   "id": "51b8c3dcc3a878a7"
  },
  {
   "cell_type": "code",
   "execution_count": null,
   "outputs": [],
   "source": [],
   "metadata": {
    "collapsed": false
   },
   "id": "bcc928433f9a4512"
  }
 ],
 "metadata": {
  "kernelspec": {
   "display_name": "Python 3",
   "language": "python",
   "name": "python3"
  },
  "language_info": {
   "codemirror_mode": {
    "name": "ipython",
    "version": 2
   },
   "file_extension": ".py",
   "mimetype": "text/x-python",
   "name": "python",
   "nbconvert_exporter": "python",
   "pygments_lexer": "ipython2",
   "version": "2.7.6"
  }
 },
 "nbformat": 4,
 "nbformat_minor": 5
}
